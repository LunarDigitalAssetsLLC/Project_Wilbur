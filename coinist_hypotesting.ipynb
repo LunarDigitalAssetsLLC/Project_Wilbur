{
 "cells": [
  {
   "cell_type": "code",
   "execution_count": 1,
   "metadata": {},
   "outputs": [],
   "source": [
    "#import libraries\n",
    "\n",
    "import numpy as np\n",
    "import pandas as pd\n",
    "import matplotlib.pyplot as plt\n",
    "%matplotlib inline\n",
    "import seaborn as sns\n",
    "sns.set(font_scale=1.5)\n",
    "\n",
    "import statsmodels"
   ]
  },
  {
   "cell_type": "code",
   "execution_count": 2,
   "metadata": {},
   "outputs": [],
   "source": [
    "df = pd.read_csv('coinist_labelled2.csv', index_col=0)"
   ]
  },
  {
   "cell_type": "code",
   "execution_count": 3,
   "metadata": {},
   "outputs": [
    {
     "data": {
      "text/html": [
       "<div>\n",
       "<style scoped>\n",
       "    .dataframe tbody tr th:only-of-type {\n",
       "        vertical-align: middle;\n",
       "    }\n",
       "\n",
       "    .dataframe tbody tr th {\n",
       "        vertical-align: top;\n",
       "    }\n",
       "\n",
       "    .dataframe thead th {\n",
       "        text-align: right;\n",
       "    }\n",
       "</style>\n",
       "<table border=\"1\" class=\"dataframe\">\n",
       "  <thead>\n",
       "    <tr style=\"text-align: right;\">\n",
       "      <th></th>\n",
       "      <th>Name</th>\n",
       "      <th>ico_date</th>\n",
       "      <th>ico_px</th>\n",
       "      <th>current_px</th>\n",
       "      <th>ico_roi_2</th>\n",
       "      <th>bull_bear</th>\n",
       "      <th>year</th>\n",
       "      <th>month</th>\n",
       "      <th>log_roi</th>\n",
       "      <th>log_roi_2</th>\n",
       "      <th>bull_bear_purg</th>\n",
       "      <th>life_years</th>\n",
       "      <th>life_months</th>\n",
       "      <th>life_years_rd</th>\n",
       "    </tr>\n",
       "  </thead>\n",
       "  <tbody>\n",
       "    <tr>\n",
       "      <th>0</th>\n",
       "      <td>Rise</td>\n",
       "      <td>6/1/2016</td>\n",
       "      <td>0.52978</td>\n",
       "      <td>0.080822</td>\n",
       "      <td>-0.8474</td>\n",
       "      <td>NaN</td>\n",
       "      <td>2016</td>\n",
       "      <td>6</td>\n",
       "      <td>1.000000</td>\n",
       "      <td>-0.165582</td>\n",
       "      <td>2</td>\n",
       "      <td>2.0</td>\n",
       "      <td>24</td>\n",
       "      <td>2</td>\n",
       "    </tr>\n",
       "    <tr>\n",
       "      <th>1</th>\n",
       "      <td>B2BX</td>\n",
       "      <td>11/1/2017</td>\n",
       "      <td>0.74000</td>\n",
       "      <td>0.336894</td>\n",
       "      <td>-0.5447</td>\n",
       "      <td>NaN</td>\n",
       "      <td>2017</td>\n",
       "      <td>11</td>\n",
       "      <td>1.000000</td>\n",
       "      <td>-0.607520</td>\n",
       "      <td>2</td>\n",
       "      <td>0.6</td>\n",
       "      <td>6</td>\n",
       "      <td>0</td>\n",
       "    </tr>\n",
       "    <tr>\n",
       "      <th>2</th>\n",
       "      <td>Bonpay</td>\n",
       "      <td>11/1/2017</td>\n",
       "      <td>0.85369</td>\n",
       "      <td>0.250486</td>\n",
       "      <td>-0.7066</td>\n",
       "      <td>NaN</td>\n",
       "      <td>2017</td>\n",
       "      <td>11</td>\n",
       "      <td>1.000000</td>\n",
       "      <td>-0.347291</td>\n",
       "      <td>2</td>\n",
       "      <td>0.6</td>\n",
       "      <td>6</td>\n",
       "      <td>0</td>\n",
       "    </tr>\n",
       "    <tr>\n",
       "      <th>3</th>\n",
       "      <td>BAT</td>\n",
       "      <td>5/1/2017</td>\n",
       "      <td>0.03500</td>\n",
       "      <td>0.311497</td>\n",
       "      <td>7.8999</td>\n",
       "      <td>1.0</td>\n",
       "      <td>2017</td>\n",
       "      <td>5</td>\n",
       "      <td>2.066850</td>\n",
       "      <td>2.066850</td>\n",
       "      <td>1</td>\n",
       "      <td>1.1</td>\n",
       "      <td>13</td>\n",
       "      <td>1</td>\n",
       "    </tr>\n",
       "    <tr>\n",
       "      <th>4</th>\n",
       "      <td>Raiden Network Token</td>\n",
       "      <td>11/1/2017</td>\n",
       "      <td>0.67000</td>\n",
       "      <td>1.391090</td>\n",
       "      <td>1.0763</td>\n",
       "      <td>NaN</td>\n",
       "      <td>2017</td>\n",
       "      <td>11</td>\n",
       "      <td>0.073529</td>\n",
       "      <td>0.073529</td>\n",
       "      <td>2</td>\n",
       "      <td>0.6</td>\n",
       "      <td>6</td>\n",
       "      <td>0</td>\n",
       "    </tr>\n",
       "  </tbody>\n",
       "</table>\n",
       "</div>"
      ],
      "text/plain": [
       "                   Name   ico_date   ico_px  current_px  ico_roi_2  bull_bear  \\\n",
       "0                  Rise   6/1/2016  0.52978    0.080822    -0.8474        NaN   \n",
       "1                  B2BX  11/1/2017  0.74000    0.336894    -0.5447        NaN   \n",
       "2                Bonpay  11/1/2017  0.85369    0.250486    -0.7066        NaN   \n",
       "3                   BAT   5/1/2017  0.03500    0.311497     7.8999        1.0   \n",
       "4  Raiden Network Token  11/1/2017  0.67000    1.391090     1.0763        NaN   \n",
       "\n",
       "   year  month   log_roi  log_roi_2  bull_bear_purg  life_years  life_months  \\\n",
       "0  2016      6  1.000000  -0.165582               2         2.0           24   \n",
       "1  2017     11  1.000000  -0.607520               2         0.6            6   \n",
       "2  2017     11  1.000000  -0.347291               2         0.6            6   \n",
       "3  2017      5  2.066850   2.066850               1         1.1           13   \n",
       "4  2017     11  0.073529   0.073529               2         0.6            6   \n",
       "\n",
       "   life_years_rd  \n",
       "0              2  \n",
       "1              0  \n",
       "2              0  \n",
       "3              1  \n",
       "4              0  "
      ]
     },
     "execution_count": 3,
     "metadata": {},
     "output_type": "execute_result"
    }
   ],
   "source": [
    "df.head()"
   ]
  },
  {
   "cell_type": "markdown",
   "metadata": {},
   "source": [
    "List of test:  \n",
    "1) Does ICO perform statistically different in Bull market? (Control is all population average)\n",
    "2) Does ICO perform statistically different in Bear market? (Control is all population average)\n",
    "3) Does ICO perform statistically different in bull vs. bear market "
   ]
  },
  {
   "cell_type": "code",
   "execution_count": 22,
   "metadata": {},
   "outputs": [
    {
     "name": "stdout",
     "output_type": "stream",
     "text": [
      "<class 'pandas.core.frame.DataFrame'>\n",
      "Int64Index: 458 entries, 0 to 295\n",
      "Data columns (total 14 columns):\n",
      "Name              457 non-null object\n",
      "ico_date          458 non-null object\n",
      "ico_px            457 non-null float64\n",
      "current_px        457 non-null float64\n",
      "ico_roi_2         457 non-null float64\n",
      "bull_bear         314 non-null float64\n",
      "year              458 non-null int64\n",
      "month             458 non-null int64\n",
      "log_roi           457 non-null float64\n",
      "log_roi_2         457 non-null float64\n",
      "bull_bear_purg    458 non-null int64\n",
      "life_years        458 non-null float64\n",
      "life_months       458 non-null int64\n",
      "life_years_rd     458 non-null int64\n",
      "dtypes: float64(7), int64(5), object(2)\n",
      "memory usage: 53.7+ KB\n"
     ]
    }
   ],
   "source": [
    "df.info()"
   ]
  },
  {
   "cell_type": "code",
   "execution_count": null,
   "metadata": {},
   "outputs": [],
   "source": []
  },
  {
   "cell_type": "code",
   "execution_count": null,
   "metadata": {},
   "outputs": [],
   "source": []
  },
  {
   "cell_type": "code",
   "execution_count": 4,
   "metadata": {},
   "outputs": [
    {
     "name": "stdout",
     "output_type": "stream",
     "text": [
      "5.58104476744186\n",
      "7.71489160839161\n",
      "190.43725281690143\n",
      "63.68765667396062\n",
      "35.0151918351799\n",
      "59.2856921161917\n",
      "1959.042011992316\n",
      "1096.04183283271\n"
     ]
    }
   ],
   "source": [
    "#obtain means as baseline\n",
    "\n",
    "bull_mean = np.mean(df['ico_roi_2'].loc[df['bull_bear_purg'] == 1])\n",
    "bear_mean = np.mean(df['ico_roi_2'].loc[df['bull_bear_purg'] == 0])\n",
    "purg_mean = np.mean(df['ico_roi_2'].loc[df['bull_bear_purg'] == 2])\n",
    "population_mean = np.mean(df['ico_roi_2'])\n",
    "print(bull_mean)\n",
    "print(bear_mean)\n",
    "print(purg_mean)\n",
    "print(population_mean)\n",
    "\n",
    "\n",
    "bull_std = np.std(df['ico_roi_2'].loc[df['bull_bear_purg'] == 1])\n",
    "bear_std = np.std(df['ico_roi_2'].loc[df['bull_bear_purg'] == 0])\n",
    "purg_std = np.std(df['ico_roi_2'].loc[df['bull_bear_purg'] == 2])\n",
    "population_std = np.std(df['ico_roi_2'])\n",
    "print(bull_std)\n",
    "print(bear_std)\n",
    "print(purg_std)\n",
    "print(population_std)"
   ]
  },
  {
   "cell_type": "code",
   "execution_count": 5,
   "metadata": {},
   "outputs": [
    {
     "name": "stdout",
     "output_type": "stream",
     "text": [
      "2.13384684094975\n"
     ]
    }
   ],
   "source": [
    "#diff in bull vs bear\n",
    "\n",
    "diff_means = bear_mean - bull_mean\n",
    "print(diff_means)"
   ]
  },
  {
   "cell_type": "code",
   "execution_count": 6,
   "metadata": {},
   "outputs": [
    {
     "name": "stdout",
     "output_type": "stream",
     "text": [
      "-0.16980307315697674\n",
      "-0.046344336167832186\n",
      "0.2645141214295775\n",
      "0.0037803864070021865\n",
      "1.590121569342989\n",
      "1.3976047990223293\n",
      "1.9112577852617136\n",
      "1.652615118995617\n"
     ]
    }
   ],
   "source": [
    "#obtain means as baseline of log_rois\n",
    "\n",
    "log_bull_mean = np.mean(df['log_roi_2'].loc[df['bull_bear_purg'] == 1])\n",
    "log_bear_mean = np.mean(df['log_roi_2'].loc[df['bull_bear_purg'] == 0])\n",
    "log_purg_mean = np.mean(df['log_roi_2'].loc[df['bull_bear_purg'] == 2])\n",
    "log_population_mean = np.mean(df['log_roi_2'])\n",
    "print(log_bull_mean)\n",
    "print(log_bear_mean)\n",
    "print(log_purg_mean)\n",
    "print(log_population_mean)\n",
    "\n",
    "\n",
    "log_bull_std = np.std(df['log_roi_2'].loc[df['bull_bear_purg'] == 1])\n",
    "log_bear_std = np.std(df['log_roi_2'].loc[df['bull_bear_purg'] == 0])\n",
    "log_purg_std = np.std(df['log_roi_2'].loc[df['bull_bear_purg'] == 2])\n",
    "log_population_std = np.std(df['log_roi_2'])\n",
    "print(log_bull_std)\n",
    "print(log_bear_std)\n",
    "print(log_purg_std)\n",
    "print(log_population_std)"
   ]
  },
  {
   "cell_type": "code",
   "execution_count": 7,
   "metadata": {},
   "outputs": [],
   "source": [
    "#Is the distribution of ROIs in  market Gaussian?\n",
    "\n",
    "def ecdf(data):\n",
    "    \"\"\"Compute ECDF for a one-dimensional array of measurements.\"\"\"\n",
    "\n",
    "    # Number of data points: n\n",
    "    n = len(data)\n",
    "\n",
    "    # x-data for the ECDF: x\n",
    "    x = np.sort(data)\n",
    "\n",
    "    # y-data for the ECDF: y\n",
    "    y = np.arange(1, n+1) / n\n",
    "\n",
    "    return x, y"
   ]
  },
  {
   "cell_type": "code",
   "execution_count": 8,
   "metadata": {},
   "outputs": [],
   "source": [
    "roi_samples = np.random.normal(population_mean, population_std, size=10000)\n",
    "\n",
    "x_temp, y_temp = ecdf(df['ico_roi_2'])\n",
    "x_theor, y_theor = ecdf(roi_samples)"
   ]
  },
  {
   "cell_type": "code",
   "execution_count": 94,
   "metadata": {},
   "outputs": [
    {
     "data": {
      "image/png": "[encoded data removed]",
      "text/plain": [
       "<matplotlib.figure.Figure at 0x15cd35e57b8>"
      ]
     },
     "metadata": {},
     "output_type": "display_data"
    }
   ],
   "source": [
    "\n",
    "fig, ax = plt.subplots(figsize=(10,6))\n",
    "_ = plt.plot(x_theor, y_theor)\n",
    "_ = plt.plot(x_temp, y_temp, marker='.', linestyle='none')\n",
    "_ = plt.xlabel('ROI')\n",
    "_ = plt.ylabel('ecdf')\n",
    "_ = plt.legend(['Theoretical Normal CDF', 'Sample CDF'])\n",
    "plt.margins(0.02)\n",
    "plt.show()"
   ]
  },
  {
   "cell_type": "code",
   "execution_count": 9,
   "metadata": {},
   "outputs": [],
   "source": [
    "log_roi_samples = np.random.normal(log_population_mean, log_population_std, size=10000)\n",
    "\n",
    "log_x_temp, log_y_temp = ecdf(df['log_roi_2'])\n",
    "log_x_theor, log_y_theor = ecdf(log_roi_samples)"
   ]
  },
  {
   "cell_type": "code",
   "execution_count": 97,
   "metadata": {},
   "outputs": [
    {
     "data": {
      "image/png": "[encoded data removed]",
      "text/plain": [
       "<matplotlib.figure.Figure at 0x15cd3890588>"
      ]
     },
     "metadata": {},
     "output_type": "display_data"
    }
   ],
   "source": [
    "\n",
    "fig, ax = plt.subplots(figsize=(12,6))\n",
    "_ = plt.plot(log_x_theor, log_y_theor)\n",
    "_ = plt.plot(log_x_temp, log_y_temp, marker='.', linestyle='none')\n",
    "_ = plt.title('Theoretical Cumulative Distribution Function vs. Sample')\n",
    "_ = plt.xlabel('LogROI')\n",
    "_ = plt.ylabel('ecdf')\n",
    "_ = plt.legend(['Theoretical Normal CDF', 'Sample CDF'])\n",
    "plt.margins(0.02)\n",
    "plt.show()"
   ]
  },
  {
   "cell_type": "code",
   "execution_count": 12,
   "metadata": {},
   "outputs": [],
   "source": [
    "#Going forward will use the Logarithmic ROI"
   ]
  },
  {
   "cell_type": "code",
   "execution_count": 93,
   "metadata": {},
   "outputs": [],
   "source": [
    "# get samples of bear, bull and purg\n",
    "np.random.seed(42)\n",
    "\n",
    "n = 100\n",
    "\n",
    "bull_samp = np.random.choice(df['log_roi_2'].loc[df['bull_bear_purg'] == 1], size=n, replace=True)\n",
    "bear_samp = np.random.choice(df['log_roi_2'].loc[df['bull_bear_purg'] == 0], size=n, replace=True)\n",
    "purg_samp = np.random.choice(df['log_roi_2'].loc[df['bull_bear_purg'] == 2], size=n, replace=True)"
   ]
  },
  {
   "cell_type": "code",
   "execution_count": null,
   "metadata": {},
   "outputs": [],
   "source": []
  },
  {
   "cell_type": "code",
   "execution_count": 94,
   "metadata": {},
   "outputs": [
    {
     "name": "stdout",
     "output_type": "stream",
     "text": [
      "-0.19817668596000002\n",
      "-0.038474426460000016\n",
      "0.33583534668\n"
     ]
    }
   ],
   "source": [
    "bull_samp_mean = np.mean(bull_samp)\n",
    "print(bull_samp_mean)\n",
    "\n",
    "bear_samp_mean = np.mean(bear_samp)\n",
    "print(bear_samp_mean)\n",
    "\n",
    "purg_samp_mean = np.mean(purg_samp)\n",
    "print(purg_samp_mean)"
   ]
  },
  {
   "cell_type": "code",
   "execution_count": 31,
   "metadata": {},
   "outputs": [
    {
     "name": "stdout",
     "output_type": "stream",
     "text": [
      "1.5945173364603518\n",
      "1.5537125497993591\n",
      "1.9831732532131165\n"
     ]
    }
   ],
   "source": [
    "bull_samp_std = np.std(bull_samp)\n",
    "print(bull_samp_std)\n",
    "\n",
    "bear_samp_std = np.std(bear_samp)\n",
    "print(bear_samp_std)\n",
    "\n",
    "purg_samp_std = np.std(purg_samp)\n",
    "print(purg_samp_std)"
   ]
  },
  {
   "cell_type": "code",
   "execution_count": 85,
   "metadata": {},
   "outputs": [
    {
     "name": "stdout",
     "output_type": "stream",
     "text": [
      "-0.1597022595\n"
     ]
    }
   ],
   "source": [
    "#samp diffs\n",
    "\n",
    "sample_diff = np.subtract(bull_samp_mean,bear_samp_mean)\n",
    "print(sample_diff)"
   ]
  },
  {
   "cell_type": "code",
   "execution_count": 42,
   "metadata": {},
   "outputs": [
    {
     "name": "stdout",
     "output_type": "stream",
     "text": [
      "0.22263216801883415\n"
     ]
    }
   ],
   "source": [
    "# construct confidence interval... use 95% confidence or alpha of 0.05. Since one-tailed test, critical z-value = 1.64\n",
    "bull_samp_std_err = (bull_samp_std**2/100)\n",
    "bear_samp_std_err = (bear_samp_std**2/100)\n",
    "purg_samp_std_err = (purg_samp_std**2/100)\n",
    "standard_error = bull_samp_std_err + bear_samp_std_err\n",
    "standard_error = standard_error**0.5\n",
    "print(standard_error)"
   ]
  },
  {
   "cell_type": "code",
   "execution_count": 43,
   "metadata": {},
   "outputs": [
    {
     "name": "stdout",
     "output_type": "stream",
     "text": [
      "0.36511675555088796\n"
     ]
    }
   ],
   "source": [
    "interval = 1.64*standard_error\n",
    "print(interval)"
   ]
  },
  {
   "cell_type": "code",
   "execution_count": 113,
   "metadata": {},
   "outputs": [
    {
     "name": "stdout",
     "output_type": "stream",
     "text": [
      "The 95% Confidence Interval for a Distribution of Mean Differences is between -0.52 and 0.21\n"
     ]
    }
   ],
   "source": [
    "confidence_interval_lower_bound = sample_diff - interval\n",
    "confidence_interval_upper_bound = sample_diff + interval\n",
    "print('The 95% Confidence Interval for a Distribution of Mean Differences is between {:.2} and {:.2}'.format(confidence_interval_lower_bound, confidence_interval_upper_bound))"
   ]
  },
  {
   "cell_type": "code",
   "execution_count": null,
   "metadata": {},
   "outputs": [],
   "source": []
  },
  {
   "cell_type": "code",
   "execution_count": null,
   "metadata": {},
   "outputs": [],
   "source": []
  },
  {
   "cell_type": "markdown",
   "metadata": {},
   "source": [
    "H0 = bull_mean - bear_mean = 0\n",
    "\n",
    "Ha = bull_mean - bear_mean > 0 (ICOs perform better in bull markets than in bear markets)\n",
    "\n",
    "Significance Level of 95% or Alpha of 0.05\n",
    "\n",
    "Critical value = 1.64 (one-tailed case)\n",
    "\n",
    "We reject H0 if z-stat > 1.64 and fail to reject if z-stat < 1.64"
   ]
  },
  {
   "cell_type": "code",
   "execution_count": 44,
   "metadata": {},
   "outputs": [
    {
     "name": "stdout",
     "output_type": "stream",
     "text": [
      "-0.7173368562196707\n"
     ]
    }
   ],
   "source": [
    "#manual compute z-stat and compare with statsmodels.\n",
    "\n",
    "manual_z_stat = sample_diff / standard_error\n",
    "print(manual_z_stat)"
   ]
  },
  {
   "cell_type": "code",
   "execution_count": 17,
   "metadata": {},
   "outputs": [],
   "source": [
    "from statsmodels.stats import weightstats"
   ]
  },
  {
   "cell_type": "code",
   "execution_count": 110,
   "metadata": {},
   "outputs": [],
   "source": [
    "zstat, pval = statsmodels.stats.weightstats.ztest(bull_samp, bear_samp, value=0)"
   ]
  },
  {
   "cell_type": "code",
   "execution_count": 111,
   "metadata": {},
   "outputs": [
    {
     "name": "stdout",
     "output_type": "stream",
     "text": [
      "-0.71374116011213\n",
      "0.4753872496948548\n"
     ]
    }
   ],
   "source": [
    "print(zstat)\n",
    "print(pval)"
   ]
  },
  {
   "cell_type": "markdown",
   "metadata": {},
   "source": [
    "With a z-stat of -0.71 (within of 95% confidence interval), we reject the Null hypothesis in favor of the alternative."
   ]
  },
  {
   "cell_type": "code",
   "execution_count": null,
   "metadata": {},
   "outputs": [],
   "source": []
  },
  {
   "cell_type": "code",
   "execution_count": null,
   "metadata": {},
   "outputs": [],
   "source": []
  },
  {
   "cell_type": "code",
   "execution_count": 56,
   "metadata": {},
   "outputs": [],
   "source": [
    "#What else to test...\n",
    "\n",
    "# 2) Purg vs. non-purg\n",
    "\n",
    "H0 = Non-purg mean - Purgatory Mean = 0\n",
    "Ha = Non-purg mean - Purgatory Mean != 0 (two-tailed test)\n",
    "\n",
    "non_purg_samp = np.random.choice(df['log_roi_2'].loc[df['bull_bear_purg'] != 2], size=n, replace=True)"
   ]
  },
  {
   "cell_type": "code",
   "execution_count": 26,
   "metadata": {},
   "outputs": [],
   "source": []
  },
  {
   "cell_type": "code",
   "execution_count": 64,
   "metadata": {},
   "outputs": [
    {
     "name": "stdout",
     "output_type": "stream",
     "text": [
      "-0.08204238844\n",
      "1.3590878875271346\n",
      "0.24041830292810207\n",
      "-0.41787773512\n",
      "-0.8890976088590801\n",
      "0.05334213861908005\n"
     ]
    }
   ],
   "source": [
    "non_purg_samp_mean = np.mean(non_purg_samp)\n",
    "print(non_purg_samp_mean)\n",
    "non_purg_samp_std = np.std(non_purg_samp)\n",
    "print(non_purg_samp_std)\n",
    "\n",
    "non_purg_samp_var = (non_purg_samp_std**2/100)\n",
    "standard_error = non_purg_samp_var + purg_samp_var\n",
    "standard_error = standard_error**0.5\n",
    "print(standard_error)\n",
    "\n",
    "\n",
    "\n",
    "sample_diff = non_purg_samp_mean - purg_samp_mean\n",
    "print(sample_diff)\n",
    "\n",
    "#first at 95% confidence interval, so alpha of 0.05 (div 2 as two-tailed test). z-value = 1.96\n",
    "\n",
    "interval_4 = 1.96*standard_error\n",
    "\n",
    "low_interval = sample_diff - interval_4\n",
    "high_interval = sample_diff + interval_4\n",
    "print(low_interval)\n",
    "print(high_interval)"
   ]
  },
  {
   "cell_type": "code",
   "execution_count": 91,
   "metadata": {},
   "outputs": [],
   "source": [
    "zstat, pval = statsmodels.stats.weightstats.ztest(non_purg_samp, purg_samp, value=0)"
   ]
  },
  {
   "cell_type": "code",
   "execution_count": 92,
   "metadata": {},
   "outputs": [
    {
     "name": "stdout",
     "output_type": "stream",
     "text": [
      "-1.7294153216583894\n",
      "0.08373478977052302\n"
     ]
    }
   ],
   "source": [
    "print(zstat)\n",
    "print(pval)"
   ]
  },
  {
   "cell_type": "code",
   "execution_count": 66,
   "metadata": {},
   "outputs": [
    {
     "name": "stdout",
     "output_type": "stream",
     "text": [
      "-1.7381277965553554\n"
     ]
    }
   ],
   "source": [
    "#manual calc of z stat\n",
    "\n",
    "purg_z_stat = sample_diff / standard_error\n",
    "print(purg_z_stat)"
   ]
  },
  {
   "cell_type": "markdown",
   "metadata": {},
   "source": [
    "As -1.73 falls in the critical region, we reject H0 in favor of Ha"
   ]
  },
  {
   "cell_type": "code",
   "execution_count": null,
   "metadata": {},
   "outputs": [],
   "source": []
  },
  {
   "cell_type": "code",
   "execution_count": null,
   "metadata": {},
   "outputs": [],
   "source": []
  },
  {
   "cell_type": "code",
   "execution_count": 78,
   "metadata": {},
   "outputs": [
    {
     "data": {
      "image/png": "[encoded data removed]",
      "text/plain": [
       "<matplotlib.figure.Figure at 0x1f4fe9dde10>"
      ]
     },
     "metadata": {},
     "output_type": "display_data"
    }
   ],
   "source": [
    "fig, ax = plt.subplots(figsize=(12,6))\n",
    "ax = df['log_roi_2'].loc[df['bull_bear_purg'] ==1].hist(bins=50, label='Bull Market', alpha=0.8)\n",
    "\n",
    "ax = df['log_roi_2'].loc[df['bull_bear_purg'] ==0].hist(bins=50, label='Bear Market', alpha=0.8)\n",
    "\n",
    "plt.title('Distribution of Log ROI of ICOs in Bull and Bear Markets')\n",
    "plt.ylabel('Frequency')\n",
    "plt.xlabel('Log ROI')\n",
    "plt.legend()\n",
    "plt.show()"
   ]
  },
  {
   "cell_type": "code",
   "execution_count": null,
   "metadata": {},
   "outputs": [],
   "source": []
  },
  {
   "cell_type": "code",
   "execution_count": 20,
   "metadata": {},
   "outputs": [],
   "source": [
    "zstat_pop, pval_pop = statsmodels.stats.weightstats.ztest(df['log_roi_2'].loc[df['bull_bear_purg'] ==0][:100], df['log_roi_2'].loc[df['bull_bear_purg'] ==1][:100], value=0)"
   ]
  },
  {
   "cell_type": "code",
   "execution_count": 21,
   "metadata": {},
   "outputs": [
    {
     "name": "stdout",
     "output_type": "stream",
     "text": [
      "0.7995349055889244\n",
      "0.4239803151387397\n"
     ]
    }
   ],
   "source": [
    "print(zstat_pop)\n",
    "print(pval_pop)"
   ]
  },
  {
   "cell_type": "code",
   "execution_count": 79,
   "metadata": {},
   "outputs": [
    {
     "data": {
      "text/plain": [
       "1    173\n",
       "0    143\n",
       "2    142\n",
       "Name: bull_bear_purg, dtype: int64"
      ]
     },
     "execution_count": 79,
     "metadata": {},
     "output_type": "execute_result"
    }
   ],
   "source": [
    "df['bull_bear_purg'].value_counts()"
   ]
  },
  {
   "cell_type": "code",
   "execution_count": 88,
   "metadata": {},
   "outputs": [],
   "source": [
    "from scipy import stats"
   ]
  },
  {
   "cell_type": "code",
   "execution_count": 90,
   "metadata": {},
   "outputs": [
    {
     "data": {
      "text/plain": [
       "Ttest_indResult(statistic=-0.7137411601121301, pvalue=0.4762282870354907)"
      ]
     },
     "execution_count": 90,
     "metadata": {},
     "output_type": "execute_result"
    }
   ],
   "source": [
    "stats.ttest_ind(bull_samp, bear_samp, axis=0, equal_var=0)"
   ]
  },
  {
   "cell_type": "markdown",
   "metadata": {},
   "source": [
    "With t-test, pval is 1 - (0.476/2) or not statistically significant. t-stat denotes magnitude of difference"
   ]
  },
  {
   "cell_type": "code",
   "execution_count": 104,
   "metadata": {},
   "outputs": [],
   "source": [
    "np.random.seed(42)\n",
    "bull_samp_2 = np.random.choice(df['ico_roi_2'].loc[df['bull_bear_purg'] == 1], size=n, replace=True)\n",
    "bear_samp_2 = np.random.choice(df['ico_roi_2'].loc[df['bull_bear_purg'] == 0], size=n, replace=True)\n",
    "purg_samp_2 = np.random.choice(df['ico_roi_2'].loc[df['bull_bear_purg'] == 2], size=n, replace=True)"
   ]
  },
  {
   "cell_type": "code",
   "execution_count": 105,
   "metadata": {},
   "outputs": [
    {
     "name": "stdout",
     "output_type": "stream",
     "text": [
      "6.530453\n",
      "10.966391000000002\n"
     ]
    }
   ],
   "source": [
    "bull_samp_2_mean = np.mean(bull_samp_2)\n",
    "print(bull_samp_2_mean)\n",
    "bear_samp_2_mean = np.mean(bear_samp_2)\n",
    "print(bear_samp_2_mean)"
   ]
  },
  {
   "cell_type": "code",
   "execution_count": 106,
   "metadata": {},
   "outputs": [
    {
     "name": "stdout",
     "output_type": "stream",
     "text": [
      "43.3524588690779\n",
      "70.71954988689068\n"
     ]
    }
   ],
   "source": [
    "bull_samp_2_std = np.std(bull_samp_2)\n",
    "print(bull_samp_2_std)\n",
    "bear_samp_2_std = np.std(bear_samp_2)\n",
    "print(bear_samp_2_std)"
   ]
  },
  {
   "cell_type": "code",
   "execution_count": 107,
   "metadata": {},
   "outputs": [],
   "source": [
    "zstat_2, pval_2 = statsmodels.stats.weightstats.ztest(bull_samp_2, bear_samp_2, value=0)"
   ]
  },
  {
   "cell_type": "code",
   "execution_count": 108,
   "metadata": {},
   "outputs": [
    {
     "name": "stdout",
     "output_type": "stream",
     "text": [
      "-0.5320923995449396\n",
      "0.5946620011973887\n"
     ]
    }
   ],
   "source": [
    "print(zstat_2)\n",
    "print(pval_2)"
   ]
  },
  {
   "cell_type": "code",
   "execution_count": null,
   "metadata": {},
   "outputs": [],
   "source": []
  },
  {
   "cell_type": "code",
   "execution_count": null,
   "metadata": {},
   "outputs": [],
   "source": []
  }
 ],
 "metadata": {
  "kernelspec": {
   "display_name": "Python 3",
   "language": "python",
   "name": "python3"
  },
  "language_info": {
   "codemirror_mode": {
    "name": "ipython",
    "version": 3
   },
   "file_extension": ".py",
   "mimetype": "text/x-python",
   "name": "python",
   "nbconvert_exporter": "python",
   "pygments_lexer": "ipython3",
   "version": "3.5.4"
  }
 },
 "nbformat": 4,
 "nbformat_minor": 2
}
